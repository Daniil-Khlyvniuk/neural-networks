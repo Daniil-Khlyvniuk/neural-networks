{
  "nbformat": 4,
  "nbformat_minor": 0,
  "metadata": {
    "colab": {
      "provenance": [],
      "authorship_tag": "ABX9TyNOTCInJ6VkzBRvUnjgOiGj",
      "include_colab_link": true
    },
    "kernelspec": {
      "name": "python3",
      "display_name": "Python 3"
    },
    "language_info": {
      "name": "python"
    }
  },
  "cells": [
    {
      "cell_type": "markdown",
      "metadata": {
        "id": "view-in-github",
        "colab_type": "text"
      },
      "source": [
        "<a href=\"https://colab.research.google.com/github/Daniil-Khlyvniuk/neural-networks/blob/main/Perceptron.ipynb\" target=\"_parent\"><img src=\"https://colab.research.google.com/assets/colab-badge.svg\" alt=\"Open In Colab\"/></a>"
      ]
    },
    {
      "cell_type": "code",
      "execution_count": 353,
      "metadata": {
        "id": "s72qX_y9K0dA"
      },
      "outputs": [],
      "source": [
        "import numpy as np\n",
        "import matplotlib.pyplot as plt\n",
        "from google.colab import drive\n",
        "from PIL import Image"
      ]
    },
    {
      "cell_type": "code",
      "source": [
        "def detect(searched_class, weights, items_count=5):\n",
        "  for i in range(items_count):\n",
        "    x = np.array([ searched_class[0][i], searched_class[1][i] ]) # searched class is \"2\"\n",
        "    y = np.dot(weights, x)\n",
        "\n",
        "    if y >= 0:\n",
        "      print('Class \"1\" detected')\n",
        "    else:\n",
        "      print('Calss 2 detected')"
      ],
      "metadata": {
        "id": "pQTBwdUPYkHc"
      },
      "execution_count": 354,
      "outputs": []
    },
    {
      "cell_type": "code",
      "source": [
        "def draw():\n",
        "  plt.scatter(class_1[0][:], class_1[1][:], s=10, c='red')\n",
        "  plt.scatter(class_2[0][:], class_2[1][:], s=10, c='blue')\n",
        "  plt.plot(f)\n",
        "  plt.grid(True)\n",
        "  plt.show()"
      ],
      "metadata": {
        "id": "ozDIV5VtY3gx"
      },
      "execution_count": 355,
      "outputs": []
    },
    {
      "cell_type": "markdown",
      "source": [
        "# Perceptron linear"
      ],
      "metadata": {
        "id": "5MUPwqi_MzZP"
      }
    },
    {
      "cell_type": "code",
      "source": [
        "items_count = 5 # 5 items for each class\n",
        "\n",
        "class_1_x1 = np.random.random(items_count)\n",
        "class_1_x2 = class_1_x1 + [ np.random.randint(10)/10 for i in range(items_count) ]\n",
        "\n",
        "class_2_x1 = np.random.random(items_count)\n",
        "class_2_x2 = class_1_x1 - [ np.random.randint(10)/10 for i in range(items_count) ] - 0.1\n",
        "\n",
        "class_1 = [ class_1_x1, class_1_x2 ]\n",
        "class_2 = [ class_2_x1, class_2_x2 ]\n",
        "\n",
        "f = [ 0, 1 ] # separated line\n",
        "weights = np.array([ -0.5, 0.5 ])"
      ],
      "metadata": {
        "id": "YBZg6ImUNbPD"
      },
      "execution_count": 356,
      "outputs": []
    },
    {
      "cell_type": "code",
      "source": [
        "draw()"
      ],
      "metadata": {
        "colab": {
          "base_uri": "https://localhost:8080/",
          "height": 430
        },
        "id": "7cqFYiWPQG5D",
        "outputId": "43dad72a-c702-44e3-b40c-dd5b24096a01"
      },
      "execution_count": 357,
      "outputs": [
        {
          "output_type": "display_data",
          "data": {
            "text/plain": [
              "<Figure size 640x480 with 1 Axes>"
            ],
            "image/png": "[encoded data removed]"
          },
          "metadata": {}
        }
      ]
    },
    {
      "cell_type": "code",
      "source": [
        "for i in range(items_count):\n",
        "  x = np.array([ class_2[0][i], class_2[1][i] ]) # searched class is \"2\"\n",
        "  y = np.dot(weights, x)\n",
        "\n",
        "  if y >= 0:\n",
        "    print('Class \"1\" detected')\n",
        "  else:\n",
        "    print('Calss \"2\" detected')"
      ],
      "metadata": {
        "colab": {
          "base_uri": "https://localhost:8080/"
        },
        "id": "lBmN1Po4OfVk",
        "outputId": "063b9f7f-8da5-4908-fffc-5d9810ab15c0"
      },
      "execution_count": 358,
      "outputs": [
        {
          "output_type": "stream",
          "name": "stdout",
          "text": [
            "Calss 2 detected\n",
            "Calss 2 detected\n",
            "Calss 2 detected\n",
            "Calss 2 detected\n",
            "Calss 2 detected\n"
          ]
        }
      ]
    },
    {
      "cell_type": "code",
      "source": [],
      "metadata": {
        "id": "nOWoIV4Ur6Zv"
      },
      "execution_count": null,
      "outputs": []
    },
    {
      "cell_type": "markdown",
      "source": [
        "# Perceptron linear with bias"
      ],
      "metadata": {
        "id": "WQzpMg0rX5wm"
      }
    },
    {
      "cell_type": "code",
      "source": [
        "items_count = 5 # 5 items for each class\n",
        "bias = 3\n",
        "\n",
        "# class_1_x1 = np.random.random(items_count)\n",
        "# class_1_x2 = class_1_x1 + [ np.random.randint(10)/10 for i in range(items_count) ] + bias\n",
        "class_1_x1 = np.array([ 0.04379099, 0.1412098,  0.67948488, 0.59291753, 0.412971 ])\n",
        "class_1_x2 = np.array([ 3.04379099, 3.3412098,  4.17948488, 4.39291753, 3.812971 ])\n",
        "\n",
        "\n",
        "# class_2_x1 = np.random.random(items_count)\n",
        "# class_2_x2 = class_1_x1 - [ np.random.randint(10)/10 for i in range(items_count) ] - 0.1 + bias\n",
        "class_2_x1 = np.array([ 0.02843377, 0.41814744, 0.75796497, 0.69957242, 0.36419589 ])\n",
        "class_2_x2 = np.array([ 2.74379099, 2.7412098,  3.37948488, 2.69291753, 3.112971 ])\n",
        "\n",
        "class_1 = [ class_1_x1, class_1_x2 ]\n",
        "class_2 = [ class_2_x1, class_2_x2 ]\n",
        "\n",
        "f = [ 0 + bias, 1 + bias ] # separated line\n",
        "\n",
        "\n",
        "weights = np.array([ -0.5, 0.5, -bias*0.5 ])\n",
        "\n",
        "print(weights)"
      ],
      "metadata": {
        "colab": {
          "base_uri": "https://localhost:8080/"
        },
        "id": "NIAhMhxtXvQE",
        "outputId": "e764664f-f847-4d93-f5f2-4697fc3acc3c"
      },
      "execution_count": 359,
      "outputs": [
        {
          "output_type": "stream",
          "name": "stdout",
          "text": [
            "[-0.5  0.5 -1.5]\n"
          ]
        }
      ]
    },
    {
      "cell_type": "code",
      "source": [
        "draw()"
      ],
      "metadata": {
        "colab": {
          "base_uri": "https://localhost:8080/",
          "height": 430
        },
        "id": "j39Rd10BY1uk",
        "outputId": "e41c0de5-8672-4689-e879-8bcf0107e441"
      },
      "execution_count": 360,
      "outputs": [
        {
          "output_type": "display_data",
          "data": {
            "text/plain": [
              "<Figure size 640x480 with 1 Axes>"
            ],
            "image/png": "[encoded data removed]"
          },
          "metadata": {}
        }
      ]
    },
    {
      "cell_type": "code",
      "source": [
        "for i in range(items_count):\n",
        "  x = np.array([ class_2[0][i], class_2[1][i], 1 ]) # searched class is \"2\"\n",
        "  y = np.dot(weights, x)\n",
        "\n",
        "  if y >= 0:\n",
        "    print('Class \"1\" detected')\n",
        "  else:\n",
        "    print('Calss 2 detected')"
      ],
      "metadata": {
        "colab": {
          "base_uri": "https://localhost:8080/"
        },
        "id": "vB1V0PZKY-OQ",
        "outputId": "e5899f4e-3f7b-499d-9e88-bdb827648769"
      },
      "execution_count": 361,
      "outputs": [
        {
          "output_type": "stream",
          "name": "stdout",
          "text": [
            "Calss 2 detected\n",
            "Calss 2 detected\n",
            "Calss 2 detected\n",
            "Calss 2 detected\n",
            "Calss 2 detected\n"
          ]
        }
      ]
    },
    {
      "cell_type": "markdown",
      "source": [
        "# XOR\n",
        "\n",
        "![see image schema](https://raw.githubusercontent.com/Daniil-Khlyvniuk/neural-networks/main/perceptron_xor.jpg)"
      ],
      "metadata": {
        "id": "s5SM3saWf4zc"
      }
    },
    {
      "cell_type": "code",
      "source": [
        "C1 = [(1,0), (0,1)]\n",
        "C2 = [(0,0), (1,1)]"
      ],
      "metadata": {
        "id": "XWnu8Y3tgyiY"
      },
      "execution_count": 362,
      "outputs": []
    },
    {
      "cell_type": "code",
      "source": [
        "def activate(x):\n",
        "  return 0 if x <= 0 else 1"
      ],
      "metadata": {
        "id": "IztO-Cm_f38l"
      },
      "execution_count": 363,
      "outputs": []
    },
    {
      "cell_type": "code",
      "source": [
        "def detect(C):\n",
        "  x = np.array([ C[0], C[1], 1 ])\n",
        "\n",
        "  w1 = [ 1, 1, -1.5 ]\n",
        "  w2 = [ 1, 1, -0.5 ]\n",
        "  w_hidden = np.array([ w1, w2 ])\n",
        "  w_out = np.array([ -1, 1, -0.5 ])\n",
        "\n",
        "  sum = np.dot(w_hidden, x)\n",
        "\n",
        "  out = [ activate(x) for x in sum ]\n",
        "  out.append(1)\n",
        "  out = np.array(out)\n",
        "\n",
        "  sum = np.dot(w_out, out)\n",
        "\n",
        "  y = activate(sum)\n",
        "\n",
        "  return y"
      ],
      "metadata": {
        "id": "ywJIwh5gf4p8"
      },
      "execution_count": 364,
      "outputs": []
    },
    {
      "cell_type": "code",
      "source": [
        "print(detect(C1[0]))\n",
        "print(detect(C1[1]))\n",
        "\n",
        "print(detect(C2[0]))\n",
        "print(detect(C2[1]))"
      ],
      "metadata": {
        "colab": {
          "base_uri": "https://localhost:8080/"
        },
        "id": "Oukbreyei-37",
        "outputId": "9110582e-e893-4161-84dc-f508821141ad"
      },
      "execution_count": 365,
      "outputs": [
        {
          "output_type": "stream",
          "name": "stdout",
          "text": [
            "1\n",
            "1\n",
            "0\n",
            "0\n"
          ]
        }
      ]
    }
  ]
}