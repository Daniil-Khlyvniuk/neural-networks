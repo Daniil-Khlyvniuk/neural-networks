{
  "nbformat": 4,
  "nbformat_minor": 0,
  "metadata": {
    "colab": {
      "provenance": [],
      "authorship_tag": "ABX9TyMwiYmwV76OtzzCyLilo4T5",
      "include_colab_link": true
    },
    "kernelspec": {
      "name": "python3",
      "display_name": "Python 3"
    },
    "language_info": {
      "name": "python"
    }
  },
  "cells": [
    {
      "cell_type": "markdown",
      "metadata": {
        "id": "view-in-github",
        "colab_type": "text"
      },
      "source": [
        "<a href=\"https://colab.research.google.com/github/Daniil-Khlyvniuk/neural-networks/blob/main/keras__fibonacci_num.ipynb\" target=\"_parent\"><img src=\"https://colab.research.google.com/assets/colab-badge.svg\" alt=\"Open In Colab\"/></a>"
      ]
    },
    {
      "cell_type": "code",
      "execution_count": 165,
      "metadata": {
        "id": "-LI8uYJuha5r"
      },
      "outputs": [],
      "source": [
        "import numpy as np\n",
        "import random\n",
        "from keras.models import Sequential\n",
        "from keras.layers import Dense, Dropout\n",
        "from keras.optimizers import Adam\n",
        "from sklearn.model_selection import train_test_split\n",
        "import matplotlib.pyplot as plt"
      ]
    },
    {
      "cell_type": "code",
      "source": [
        "def fib(n):\n",
        "  phi = (1 + np.sqrt(5)) / 2\n",
        "  return np.round((pow(phi, n)) / np.sqrt(5))"
      ],
      "metadata": {
        "id": "DFDaAa7_kL1I"
      },
      "execution_count": 166,
      "outputs": []
    },
    {
      "cell_type": "code",
      "source": [
        "total_data = 750\n",
        "data_range = 1000\n",
        "\n",
        "data = np.zeros((total_data, 2))\n",
        "\n",
        "list_rand = random.sample(range(1, data_range), total_data)\n",
        "\n",
        "data[:,0] = list_rand\n",
        "data[:,1] = fib(data[:,0])"
      ],
      "metadata": {
        "id": "3BLxy-BhkSYw"
      },
      "execution_count": 167,
      "outputs": []
    },
    {
      "cell_type": "code",
      "source": [
        "x = data[:,0]\n",
        "x = np.reshape(x, (-1, 1))\n",
        "\n",
        "y = data[:,1]\n",
        "y = np.reshape(y, (-1, 1))\n",
        "\n",
        "y=np.log(y)\n",
        "\n",
        "x_train, x_test, y_train, y_test = train_test_split(x, y, test_size=0.2, random_state=42)"
      ],
      "metadata": {
        "id": "MkyBWuwTlNc_"
      },
      "execution_count": 168,
      "outputs": []
    },
    {
      "cell_type": "code",
      "source": [
        "model = Sequential()\n",
        "\n",
        "model.add(Dense(units=512, input_dim=1, activation=\"relu\"))\n",
        "model.add(Dense(units=1))\n",
        "\n",
        "model.compile(optimizer='adamax', loss='mean_squared_error',  metrics=['mae'])"
      ],
      "metadata": {
        "id": "nxtm9gJwlgcH"
      },
      "execution_count": 186,
      "outputs": []
    },
    {
      "cell_type": "code",
      "source": [
        "model.summary()"
      ],
      "metadata": {
        "colab": {
          "base_uri": "https://localhost:8080/"
        },
        "id": "0lx_JuL_lkUd",
        "outputId": "28833a63-c5cc-4092-c6a5-e738445627b7"
      },
      "execution_count": 170,
      "outputs": [
        {
          "output_type": "stream",
          "name": "stdout",
          "text": [
            "Model: \"sequential_23\"\n",
            "_________________________________________________________________\n",
            " Layer (type)                Output Shape              Param #   \n",
            "=================================================================\n",
            " dense_43 (Dense)            (None, 1)                 2         \n",
            "                                                                 \n",
            " dense_44 (Dense)            (None, 1)                 2         \n",
            "                                                                 \n",
            "=================================================================\n",
            "Total params: 4 (16.00 Byte)\n",
            "Trainable params: 4 (16.00 Byte)\n",
            "Non-trainable params: 0 (0.00 Byte)\n",
            "_________________________________________________________________\n"
          ]
        }
      ]
    },
    {
      "cell_type": "code",
      "source": [
        "logs = model.fit(x_train, y_train, batch_size=32, epochs=400, verbose=1)"
      ],
      "metadata": {
        "id": "gQcUBwvClk3d"
      },
      "execution_count": null,
      "outputs": []
    },
    {
      "cell_type": "code",
      "source": [
        "plt.plot(logs.history['mae'])\n",
        "\n",
        "plt.yscale('log')\n",
        "plt.yticks([0.1, 1, 10, 100], ['0.1', '1', '10', '100'])\n",
        "plt.xlabel('Epochs')\n",
        "plt.xscale('log')\n",
        "plt.ylabel('Loss')\n",
        "plt.title('Logarithmic Loss Plot')\n",
        "\n",
        "plt.show()"
      ],
      "metadata": {
        "id": "8-JUDm_JqxhK"
      },
      "execution_count": null,
      "outputs": []
    },
    {
      "cell_type": "code",
      "source": [
        "n = 1000\n",
        "n = np.reshape(n, (1, 1))\n",
        "\n",
        "print(\"By function : \")\n",
        "print(\"log nth fib : \" + str(np.log(fib(n))))\n",
        "print(\"nth fib : \" + str(fib(n)))\n",
        "\n",
        "print('\\n')\n",
        "\n",
        "print(\"Predicted by Neural Network : \")\n",
        "print(\"log nth fib : \" + str(model.predict(n, verbose=0)))\n",
        "print(\"nth fib : \" + str(np.exp(model.predict(n, verbose=0))))"
      ],
      "metadata": {
        "colab": {
          "base_uri": "https://localhost:8080/"
        },
        "id": "DibmzGXAl_EC",
        "outputId": "a533c18a-3b8e-4f1b-8b27-29388ed5ffe9"
      },
      "execution_count": 197,
      "outputs": [
        {
          "output_type": "stream",
          "name": "stdout",
          "text": [
            "By function : \n",
            "log nth fib : [[480.4071061]]\n",
            "nth fib : [[4.34665577e+208]]\n",
            "\n",
            "\n",
            "Predicted by Neural Network : \n",
            "log nth fib : [[480.40784]]\n",
            "nth fib : [[inf]]\n"
          ]
        },
        {
          "output_type": "stream",
          "name": "stderr",
          "text": [
            "<ipython-input-197-4a87c5ce1ea4>:12: RuntimeWarning: overflow encountered in exp\n",
            "  print(\"nth fib : \" + str(np.exp(model.predict(n, verbose=0))))\n"
          ]
        }
      ]
    }
  ]
}