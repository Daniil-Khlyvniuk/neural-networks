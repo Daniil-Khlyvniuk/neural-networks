{
  "nbformat": 4,
  "nbformat_minor": 0,
  "metadata": {
    "colab": {
      "provenance": [],
      "authorship_tag": "ABX9TyNt8QutLFJbZNgMHsk+TvzZ",
      "include_colab_link": true
    },
    "kernelspec": {
      "name": "python3",
      "display_name": "Python 3"
    },
    "language_info": {
      "name": "python"
    }
  },
  "cells": [
    {
      "cell_type": "markdown",
      "metadata": {
        "id": "view-in-github",
        "colab_type": "text"
      },
      "source": [
        "<a href=\"https://colab.research.google.com/github/Daniil-Khlyvniuk/neural-networks/blob/main/keras__Celsius_to_Fahrenheit.ipynb\" target=\"_parent\"><img src=\"https://colab.research.google.com/assets/colab-badge.svg\" alt=\"Open In Colab\"/></a>"
      ]
    },
    {
      "cell_type": "code",
      "execution_count": 3,
      "metadata": {
        "id": "Hvr75Fs5i8DF"
      },
      "outputs": [],
      "source": [
        "import numpy as np\n",
        "import matplotlib.pyplot as plt\n",
        "from tensorflow import keras\n",
        "from keras.layers import Dense\n",
        "from keras.optimizers import Adam"
      ]
    },
    {
      "cell_type": "markdown",
      "source": [
        "# Celsius to Fahrenheit degree converter"
      ],
      "metadata": {
        "id": "rBu5r0Yvk8Vt"
      }
    },
    {
      "cell_type": "code",
      "source": [
        "# training values\n",
        "\n",
        "c = np.array([-50, -40, -30, -20, -10, 0, 10, 20, 30, 40, 50])\n",
        "f = np.array([-58, -40, -22, -4, 14, 32, 50, 68, 86, 104, 122])"
      ],
      "metadata": {
        "id": "TriC9zb_jod6"
      },
      "execution_count": 4,
      "outputs": []
    },
    {
      "cell_type": "code",
      "source": [
        "model = keras.models.Sequential()\n",
        "model.add(Dense(units=1, input_shape=(1,), activation='linear'))\n",
        "\n",
        "model.compile(loss='mean_squared_error', optimizer=Adam(0.3))"
      ],
      "metadata": {
        "id": "ArGwAki7lKy-"
      },
      "execution_count": 5,
      "outputs": []
    },
    {
      "cell_type": "code",
      "source": [
        "log = model.fit(c, f, epochs=500, verbose=0)\n",
        "\n",
        "plt.plot(log.history[ 'loss' ])\n",
        "plt.grid = True"
      ],
      "metadata": {
        "colab": {
          "base_uri": "https://localhost:8080/",
          "height": 430
        },
        "id": "J_VyVLzgnHV8",
        "outputId": "4aa34637-369e-449c-e1ab-df268457e5c5"
      },
      "execution_count": 6,
      "outputs": [
        {
          "output_type": "display_data",
          "data": {
            "text/plain": [
              "<Figure size 640x480 with 1 Axes>"
            ],
            "image/png": "[encoded data removed]"
          },
          "metadata": {}
        }
      ]
    },
    {
      "cell_type": "code",
      "source": [
        "f_degree = 333\n",
        "c_result = model.predict([ f_degree ], verbose=0)[0][0]\n",
        "\n",
        "print(f'F˚{f_degree} -> C˚{ str(round(c_result, 2)) }')"
      ],
      "metadata": {
        "colab": {
          "base_uri": "https://localhost:8080/"
        },
        "id": "Kzl_pU5hnewm",
        "outputId": "6519456c-6ed7-4eb8-a9de-285ccbe3263b"
      },
      "execution_count": 14,
      "outputs": [
        {
          "output_type": "stream",
          "name": "stdout",
          "text": [
            "F˚333 -> C˚631.4\n"
          ]
        }
      ]
    },
    {
      "cell_type": "code",
      "source": [
        "model.get_weights()"
      ],
      "metadata": {
        "colab": {
          "base_uri": "https://localhost:8080/"
        },
        "id": "g9duHPtQpU9T",
        "outputId": "cec7a4c4-986e-40e7-92fc-aea325f32f0f"
      },
      "execution_count": 15,
      "outputs": [
        {
          "output_type": "execute_result",
          "data": {
            "text/plain": [
              "[array([[1.8]], dtype=float32), array([32.000008], dtype=float32)]"
            ]
          },
          "metadata": {},
          "execution_count": 15
        }
      ]
    }
  ]
}