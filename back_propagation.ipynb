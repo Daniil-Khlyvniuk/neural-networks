{
  "nbformat": 4,
  "nbformat_minor": 0,
  "metadata": {
    "colab": {
      "provenance": [],
      "authorship_tag": "ABX9TyN8G2bnagcc31GLwJfD+oJE",
      "include_colab_link": true
    },
    "kernelspec": {
      "name": "python3",
      "display_name": "Python 3"
    },
    "language_info": {
      "name": "python"
    }
  },
  "cells": [
    {
      "cell_type": "markdown",
      "metadata": {
        "id": "view-in-github",
        "colab_type": "text"
      },
      "source": [
        "<a href=\"https://colab.research.google.com/github/Daniil-Khlyvniuk/neural-networks/blob/main/back_propagation.ipynb\" target=\"_parent\"><img src=\"https://colab.research.google.com/assets/colab-badge.svg\" alt=\"Open In Colab\"/></a>"
      ]
    },
    {
      "cell_type": "markdown",
      "source": [
        "# Back propagation\n",
        "\n",
        "![image](https://raw.githubusercontent.com/Daniil-Khlyvniuk/neural-networks/main/back_propagation.jpg)"
      ],
      "metadata": {
        "id": "n9AUndQRK_PV"
      }
    },
    {
      "cell_type": "code",
      "execution_count": null,
      "metadata": {
        "id": "K2w00ofCHxpL"
      },
      "outputs": [],
      "source": [
        "import numpy as np"
      ]
    },
    {
      "cell_type": "code",
      "source": [
        "def f(x): # activation function, hyperboloid tangens\n",
        "  return 2 / (1 + np.exp(-x)) - 1"
      ],
      "metadata": {
        "id": "LAqrBOYzK-jg"
      },
      "execution_count": null,
      "outputs": []
    },
    {
      "cell_type": "code",
      "source": [
        "def df(x):\n",
        "  return 0.5 * (1 + x) * (1 - x)"
      ],
      "metadata": {
        "id": "WXvbEaxOL8lR"
      },
      "execution_count": null,
      "outputs": []
    },
    {
      "cell_type": "code",
      "source": [
        "W1 = np.array([[ -0.2, 0.3, -0.4 ], [ 0.1, -0.3, -0.4 ]])\n",
        "W2 = np.array([ 0.2, 0.3 ])\n",
        "\n",
        "epoch = [ # train vlues\n",
        "  (-1, -1, -1, -1),\n",
        "  (-1, -1, 1, 1),\n",
        "  (-1, 1, -1, -1),\n",
        "  (-1, 1, 1, 1),\n",
        "  (1, -1, -1, -1),\n",
        "  (1, -1, 1, 1),\n",
        "  (1, 1, -1, -1),\n",
        "  (1, 1, 1, -1)\n",
        "]"
      ],
      "metadata": {
        "id": "dFnC7YdkMkTd"
      },
      "execution_count": null,
      "outputs": []
    },
    {
      "cell_type": "code",
      "source": [
        "def forward(input):\n",
        "    sum = np.dot(W1, input)\n",
        "    out = np.array([ f(x) for x in sum ])\n",
        "\n",
        "    sum = np.dot(W2, out)\n",
        "    y = f(sum)\n",
        "\n",
        "    return (y, out)"
      ],
      "metadata": {
        "id": "PWzpQD2lMGXH"
      },
      "execution_count": null,
      "outputs": []
    },
    {
      "cell_type": "code",
      "source": [
        "def train(epoch):\n",
        "  global W2, W1\n",
        "\n",
        "  lmd = 0.01               # step\n",
        "  N = 10000                # iteration count\n",
        "  count = len(epoch)\n",
        "\n",
        "  for x in range(N):\n",
        "    x = epoch[ np.random.randint(0, count) ]                         # get random traning value\n",
        "    y, out = forward(x[0:3])                                         # get output values for each neuron\n",
        "\n",
        "    e = y - x[-1]                                                    # error\n",
        "    delta = e * df(y)                                                # local gradient\n",
        "\n",
        "    W2[0] = W2[0] - lmd * delta * out[0]                             # adjusting the weight of the first link\n",
        "    W2[1] = W2[1] - lmd * delta * out[1]                             # adjusting the weight of the second link\n",
        "\n",
        "    delta2 = W2 * delta * df(out)                                    # vector of 2 local gradient values\n",
        "\n",
        "    W1[0, :] = W1[0, :] - np.array(x[0:3]) * delta2[0] * lmd         # adjustment of connections of the first layer\n",
        "    W1[1, :] = W1[1, :] - np.array(x[0:3]) * delta2[1] * lmd         # adjustment of connections of the first layer\n",
        "\n"
      ],
      "metadata": {
        "id": "q8cSq8psPH-v"
      },
      "execution_count": null,
      "outputs": []
    },
    {
      "cell_type": "code",
      "source": [
        "train(epoch)\n",
        "\n",
        "\n",
        "for x in epoch:\n",
        "    y, out = forward(x[0:3])\n",
        "    print(f\"Output value: {y} => {x[-1]}\")"
      ],
      "metadata": {
        "colab": {
          "base_uri": "https://localhost:8080/"
        },
        "id": "Fbai-NoUePOl",
        "outputId": "5e229763-359e-40d5-feb5-6dc88595073d"
      },
      "execution_count": null,
      "outputs": [
        {
          "output_type": "stream",
          "name": "stdout",
          "text": [
            "-0.035912033787151576\n",
            "Output value: -0.035912033787151576 => -1\n",
            "0.9403238129616551\n",
            "Output value: 0.9403238129616551 => 1\n",
            "-0.8813880082503007\n",
            "Output value: -0.8813880082503007 => -1\n",
            "0.8686539757788958\n",
            "Output value: 0.8686539757788958 => 1\n",
            "-0.8686539757788959\n",
            "Output value: -0.8686539757788959 => -1\n",
            "0.8813880082503007\n",
            "Output value: 0.8813880082503007 => 1\n",
            "-0.9403238129616553\n",
            "Output value: -0.9403238129616553 => -1\n",
            "0.03591203378715191\n",
            "Output value: 0.03591203378715191 => -1\n"
          ]
        }
      ]
    }
  ]
}